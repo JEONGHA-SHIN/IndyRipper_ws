{
 "cells": [
  {
   "cell_type": "markdown",
   "metadata": {},
   "source": [
    "# Connect to Indy by IndyDCP"
   ]
  },
  {
   "cell_type": "code",
   "execution_count": 1,
   "metadata": {
    "scrolled": true
   },
   "outputs": [
    {
     "name": "stdout",
     "output_type": "stream",
     "text": [
      "Connect: Bind IP (192.168.0.14), Server IP (10.82.10.62)\n"
     ]
    },
    {
     "data": {
      "text/plain": [
       "True"
      ]
     },
     "execution_count": 1,
     "metadata": {},
     "output_type": "execute_result"
    }
   ],
   "source": [
    "import numpy as np\n",
    "import indydcp_client as client\n",
    "\n",
    "bind_ip   = \"192.168.0.14\"\n",
    "server_ip = \"10.82.10.62\"\n",
    "\n",
    "name = \"NRMK-Indy7\"\n",
    "indy = client.IndyDCPClient(bind_ip, server_ip, name)\n",
    "indy.connect()"
   ]
  },
  {
   "cell_type": "markdown",
   "metadata": {},
   "source": [
    "# Some examples"
   ]
  },
  {
   "cell_type": "code",
   "execution_count": null,
   "metadata": {
    "scrolled": true
   },
   "outputs": [],
   "source": [
    "# Robot status\n",
    "print(indy.is_robot_running())\n",
    "print(indy.is_robot_ready())\n",
    "print(indy.is_emergency_stop())\n",
    "print(indy.is_collided())\n",
    "print(indy.is_error_state())\n",
    "print(indy.is_busy())\n",
    "print(indy.is_move_finished())\n",
    "print(indy.is_home())\n",
    "print(indy.is_zero())\n",
    "print(indy.is_in_resetting())\n",
    "print(indy.is_direct_teaching_mode())\n",
    "print(indy.is_teaching_mode())\n",
    "print(indy.is_program_running())\n",
    "print(indy.is_program_paused())\n",
    "print(indy.is_conty_connected())\n"
   ]
  },
  {
   "cell_type": "code",
   "execution_count": 2,
   "metadata": {},
   "outputs": [],
   "source": [
    "indy.go_home()"
   ]
  },
  {
   "cell_type": "code",
   "execution_count": 5,
   "metadata": {},
   "outputs": [],
   "source": [
    "indy.go_zero()"
   ]
  },
  {
   "cell_type": "code",
   "execution_count": 11,
   "metadata": {},
   "outputs": [
    {
     "name": "stdout",
     "output_type": "stream",
     "text": [
      "p1 [-3.45988313e-21 -1.86500000e-01  1.32800000e+00 -1.49253967e-37\n",
      " -7.31546700e-19  1.62803140e-19] <class 'numpy.ndarray'>\n",
      "q1 [-1.72462458e-18 -1.76014997e-18  4.80611849e-18  3.08179722e-18\n",
      " -2.31546030e-18 -1.19435884e-18] <class 'numpy.ndarray'>\n"
     ]
    }
   ],
   "source": [
    "p1 = indy.get_task_pos()\n",
    "q1 = indy.get_joint_pos()\n",
    "print(\"p1\", p1, type(p1))\n",
    "print(\"q1\", q1, type(q1))\n"
   ]
  },
  {
   "cell_type": "code",
   "execution_count": 7,
   "metadata": {},
   "outputs": [],
   "source": [
    "q1 = [0,0,0,0,0,10]\n",
    "indy.joint_move_to(q1)"
   ]
  },
  {
   "cell_type": "code",
   "execution_count": 17,
   "metadata": {},
   "outputs": [],
   "source": [
    "q2 = [30,0,0,0,0,0]\n",
    "indy.joint_move_by(q2)"
   ]
  },
  {
   "cell_type": "code",
   "execution_count": 20,
   "metadata": {},
   "outputs": [],
   "source": [
    "indy.go_home()"
   ]
  },
  {
   "cell_type": "code",
   "execution_count": 21,
   "metadata": {},
   "outputs": [],
   "source": [
    "p1 = [0.05,0.05,0,0,0,0]\n",
    "indy.task_move_by(p1)"
   ]
  },
  {
   "cell_type": "code",
   "execution_count": 79,
   "metadata": {},
   "outputs": [
    {
     "name": "stdout",
     "output_type": "stream",
     "text": [
      "Disconnected\n"
     ]
    }
   ],
   "source": [
    "indy.disconnect()"
   ]
  }
 ],
 "metadata": {
  "kernelspec": {
   "display_name": "Python 3",
   "language": "python",
   "name": "python3"
  },
  "language_info": {
   "codemirror_mode": {
    "name": "ipython",
    "version": 3
   },
   "file_extension": ".py",
   "mimetype": "text/x-python",
   "name": "python",
   "nbconvert_exporter": "python",
   "pygments_lexer": "ipython3",
   "version": "3.6.9"
  }
 },
 "nbformat": 4,
 "nbformat_minor": 2
}
